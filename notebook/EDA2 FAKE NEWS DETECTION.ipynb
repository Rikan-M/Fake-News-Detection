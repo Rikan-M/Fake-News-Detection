{
 "cells": [
  {
   "cell_type": "code",
   "execution_count": 1,
   "id": "aea9909a",
   "metadata": {},
   "outputs": [],
   "source": [
    "import numpy as np\n",
    "import pandas as pd"
   ]
  },
  {
   "cell_type": "code",
   "execution_count": 2,
   "id": "c7d76473",
   "metadata": {},
   "outputs": [],
   "source": [
    "dataset=pd.read_csv('clean_text_news.csv')\n"
   ]
  },
  {
   "cell_type": "code",
   "execution_count": 3,
   "id": "7ee066c8",
   "metadata": {},
   "outputs": [],
   "source": [
    "dataset[\"year\"]=dataset.date.str.split(',').str[1]"
   ]
  },
  {
   "cell_type": "code",
   "execution_count": 4,
   "id": "a4fe972e",
   "metadata": {},
   "outputs": [
    {
     "name": "stderr",
     "output_type": "stream",
     "text": [
      "C:\\Users\\IT TECH\\AppData\\Local\\Temp\\ipykernel_14788\\2083615796.py:1: FutureWarning: A value is trying to be set on a copy of a DataFrame or Series through chained assignment using an inplace method.\n",
      "The behavior will change in pandas 3.0. This inplace method will never work because the intermediate object on which we are setting values always behaves as a copy.\n",
      "\n",
      "For example, when doing 'df[col].method(value, inplace=True)', try using 'df.method({col: value}, inplace=True)' or df[col] = df[col].method(value) instead, to perform the operation inplace on the original object.\n",
      "\n",
      "\n",
      "  dataset.year.fillna('2018',inplace=True)\n"
     ]
    }
   ],
   "source": [
    "dataset.year.fillna('2018',inplace=True)"
   ]
  },
  {
   "cell_type": "code",
   "execution_count": 5,
   "id": "25916591",
   "metadata": {},
   "outputs": [],
   "source": [
    "dataset.year=dataset.year.str.strip()"
   ]
  },
  {
   "cell_type": "code",
   "execution_count": 6,
   "id": "0648dc9f",
   "metadata": {},
   "outputs": [
    {
     "name": "stdout",
     "output_type": "stream",
     "text": [
      "<class 'pandas.core.frame.DataFrame'>\n",
      "RangeIndex: 44689 entries, 0 to 44688\n",
      "Data columns (total 4 columns):\n",
      " #   Column      Non-Null Count  Dtype \n",
      "---  ------      --------------  ----- \n",
      " 0   date        44689 non-null  object\n",
      " 1   IsFake      44689 non-null  int64 \n",
      " 2   title_text  44689 non-null  object\n",
      " 3   year        44689 non-null  object\n",
      "dtypes: int64(1), object(3)\n",
      "memory usage: 1.4+ MB\n"
     ]
    }
   ],
   "source": [
    "dataset.info()"
   ]
  },
  {
   "cell_type": "code",
   "execution_count": 7,
   "id": "8922a085",
   "metadata": {},
   "outputs": [],
   "source": [
    "dataset.year=dataset.year.astype(np.int64)"
   ]
  },
  {
   "cell_type": "code",
   "execution_count": 8,
   "id": "a65a3e97",
   "metadata": {},
   "outputs": [
    {
     "name": "stdout",
     "output_type": "stream",
     "text": [
      "<class 'pandas.core.frame.DataFrame'>\n",
      "RangeIndex: 44689 entries, 0 to 44688\n",
      "Data columns (total 4 columns):\n",
      " #   Column      Non-Null Count  Dtype \n",
      "---  ------      --------------  ----- \n",
      " 0   date        44689 non-null  object\n",
      " 1   IsFake      44689 non-null  int64 \n",
      " 2   title_text  44689 non-null  object\n",
      " 3   year        44689 non-null  int64 \n",
      "dtypes: int64(2), object(2)\n",
      "memory usage: 1.4+ MB\n"
     ]
    }
   ],
   "source": [
    "dataset.info()"
   ]
  },
  {
   "cell_type": "code",
   "execution_count": 9,
   "id": "93e91260",
   "metadata": {},
   "outputs": [],
   "source": [
    "dataset.drop('date',inplace=True,axis=1)"
   ]
  },
  {
   "cell_type": "code",
   "execution_count": 10,
   "id": "77178116",
   "metadata": {},
   "outputs": [
    {
     "data": {
      "text/html": [
       "<div>\n",
       "<style scoped>\n",
       "    .dataframe tbody tr th:only-of-type {\n",
       "        vertical-align: middle;\n",
       "    }\n",
       "\n",
       "    .dataframe tbody tr th {\n",
       "        vertical-align: top;\n",
       "    }\n",
       "\n",
       "    .dataframe thead th {\n",
       "        text-align: right;\n",
       "    }\n",
       "</style>\n",
       "<table border=\"1\" class=\"dataframe\">\n",
       "  <thead>\n",
       "    <tr style=\"text-align: right;\">\n",
       "      <th></th>\n",
       "      <th>IsFake</th>\n",
       "      <th>title_text</th>\n",
       "      <th>year</th>\n",
       "    </tr>\n",
       "  </thead>\n",
       "  <tbody>\n",
       "    <tr>\n",
       "      <th>0</th>\n",
       "      <td>0</td>\n",
       "      <td>u budget fight loom republican flip fiscal scr...</td>\n",
       "      <td>2017</td>\n",
       "    </tr>\n",
       "    <tr>\n",
       "      <th>1</th>\n",
       "      <td>0</td>\n",
       "      <td>u militari accept transgend recruit monday pen...</td>\n",
       "      <td>2017</td>\n",
       "    </tr>\n",
       "    <tr>\n",
       "      <th>2</th>\n",
       "      <td>0</td>\n",
       "      <td>senior u republican senat let mr mueller job w...</td>\n",
       "      <td>2017</td>\n",
       "    </tr>\n",
       "    <tr>\n",
       "      <th>3</th>\n",
       "      <td>0</td>\n",
       "      <td>fbi russia probe help australian diplomat tip ...</td>\n",
       "      <td>2017</td>\n",
       "    </tr>\n",
       "    <tr>\n",
       "      <th>4</th>\n",
       "      <td>0</td>\n",
       "      <td>trump want postal servic charg much amazon shi...</td>\n",
       "      <td>2017</td>\n",
       "    </tr>\n",
       "  </tbody>\n",
       "</table>\n",
       "</div>"
      ],
      "text/plain": [
       "   IsFake                                         title_text  year\n",
       "0       0  u budget fight loom republican flip fiscal scr...  2017\n",
       "1       0  u militari accept transgend recruit monday pen...  2017\n",
       "2       0  senior u republican senat let mr mueller job w...  2017\n",
       "3       0  fbi russia probe help australian diplomat tip ...  2017\n",
       "4       0  trump want postal servic charg much amazon shi...  2017"
      ]
     },
     "execution_count": 10,
     "metadata": {},
     "output_type": "execute_result"
    }
   ],
   "source": [
    "dataset.head()"
   ]
  },
  {
   "cell_type": "code",
   "execution_count": 11,
   "id": "63a1179c",
   "metadata": {},
   "outputs": [],
   "source": [
    "corpus=dataset.title_text.values"
   ]
  },
  {
   "cell_type": "code",
   "execution_count": 12,
   "id": "53398a4d",
   "metadata": {},
   "outputs": [],
   "source": [
    "from sklearn.feature_extraction.text import TfidfVectorizer\n",
    "vectorizer=TfidfVectorizer(max_features=25000,min_df=5,max_df=0.7)\n",
    "vectorized_arr=vectorizer.fit_transform(corpus).toarray()"
   ]
  },
  {
   "cell_type": "code",
   "execution_count": 13,
   "id": "91a2f40f",
   "metadata": {},
   "outputs": [
    {
     "data": {
      "text/plain": [
       "(44689, 25000)"
      ]
     },
     "execution_count": 13,
     "metadata": {},
     "output_type": "execute_result"
    }
   ],
   "source": [
    "vectorized_arr.shape"
   ]
  },
  {
   "cell_type": "code",
   "execution_count": 14,
   "id": "b32312e9",
   "metadata": {},
   "outputs": [],
   "source": [
    "from sklearn.decomposition import TruncatedSVD\n",
    "svd=TruncatedSVD(n_components=300)\n",
    "reduced_vec_arr=svd.fit_transform(vectorized_arr)"
   ]
  },
  {
   "cell_type": "code",
   "execution_count": 16,
   "id": "8906980d",
   "metadata": {},
   "outputs": [],
   "source": [
    "train_set=pd.DataFrame(reduced_vec_arr)"
   ]
  },
  {
   "cell_type": "code",
   "execution_count": 17,
   "id": "ddff81d7",
   "metadata": {},
   "outputs": [],
   "source": [
    "train_set['year']=dataset.year"
   ]
  },
  {
   "cell_type": "code",
   "execution_count": 20,
   "id": "77656740",
   "metadata": {},
   "outputs": [
    {
     "name": "stdout",
     "output_type": "stream",
     "text": [
      "<class 'pandas.core.frame.DataFrame'>\n",
      "RangeIndex: 44689 entries, 0 to 44688\n",
      "Columns: 301 entries, 0 to year\n",
      "dtypes: float64(300), int64(1)\n",
      "memory usage: 102.6 MB\n"
     ]
    }
   ],
   "source": [
    "train_set.info()"
   ]
  },
  {
   "cell_type": "code",
   "execution_count": 22,
   "id": "018cb487",
   "metadata": {},
   "outputs": [
    {
     "data": {
      "text/html": [
       "<div>\n",
       "<style scoped>\n",
       "    .dataframe tbody tr th:only-of-type {\n",
       "        vertical-align: middle;\n",
       "    }\n",
       "\n",
       "    .dataframe tbody tr th {\n",
       "        vertical-align: top;\n",
       "    }\n",
       "\n",
       "    .dataframe thead th {\n",
       "        text-align: right;\n",
       "    }\n",
       "</style>\n",
       "<table border=\"1\" class=\"dataframe\">\n",
       "  <thead>\n",
       "    <tr style=\"text-align: right;\">\n",
       "      <th></th>\n",
       "      <th>0</th>\n",
       "      <th>1</th>\n",
       "      <th>2</th>\n",
       "      <th>3</th>\n",
       "      <th>4</th>\n",
       "      <th>5</th>\n",
       "      <th>6</th>\n",
       "      <th>7</th>\n",
       "      <th>8</th>\n",
       "      <th>9</th>\n",
       "      <th>...</th>\n",
       "      <th>291</th>\n",
       "      <th>292</th>\n",
       "      <th>293</th>\n",
       "      <th>294</th>\n",
       "      <th>295</th>\n",
       "      <th>296</th>\n",
       "      <th>297</th>\n",
       "      <th>298</th>\n",
       "      <th>299</th>\n",
       "      <th>year</th>\n",
       "    </tr>\n",
       "  </thead>\n",
       "  <tbody>\n",
       "    <tr>\n",
       "      <th>0</th>\n",
       "      <td>0.363875</td>\n",
       "      <td>-0.012413</td>\n",
       "      <td>-0.279566</td>\n",
       "      <td>0.259308</td>\n",
       "      <td>-0.106940</td>\n",
       "      <td>-0.021839</td>\n",
       "      <td>-0.017721</td>\n",
       "      <td>0.142037</td>\n",
       "      <td>-0.009440</td>\n",
       "      <td>-0.024391</td>\n",
       "      <td>...</td>\n",
       "      <td>0.023386</td>\n",
       "      <td>-0.008769</td>\n",
       "      <td>-0.015133</td>\n",
       "      <td>0.002838</td>\n",
       "      <td>-0.006858</td>\n",
       "      <td>-0.004907</td>\n",
       "      <td>0.018868</td>\n",
       "      <td>-0.010167</td>\n",
       "      <td>-0.021797</td>\n",
       "      <td>2017</td>\n",
       "    </tr>\n",
       "    <tr>\n",
       "      <th>1</th>\n",
       "      <td>0.255102</td>\n",
       "      <td>-0.052546</td>\n",
       "      <td>-0.036630</td>\n",
       "      <td>-0.013458</td>\n",
       "      <td>-0.026490</td>\n",
       "      <td>-0.066599</td>\n",
       "      <td>-0.090976</td>\n",
       "      <td>-0.168911</td>\n",
       "      <td>0.012101</td>\n",
       "      <td>-0.139682</td>\n",
       "      <td>...</td>\n",
       "      <td>-0.016115</td>\n",
       "      <td>0.010415</td>\n",
       "      <td>0.025954</td>\n",
       "      <td>-0.033427</td>\n",
       "      <td>0.026025</td>\n",
       "      <td>0.017250</td>\n",
       "      <td>-0.020288</td>\n",
       "      <td>0.031084</td>\n",
       "      <td>-0.026674</td>\n",
       "      <td>2017</td>\n",
       "    </tr>\n",
       "    <tr>\n",
       "      <th>2</th>\n",
       "      <td>0.363986</td>\n",
       "      <td>0.109561</td>\n",
       "      <td>0.098220</td>\n",
       "      <td>0.132986</td>\n",
       "      <td>0.237107</td>\n",
       "      <td>-0.151706</td>\n",
       "      <td>-0.071024</td>\n",
       "      <td>-0.033271</td>\n",
       "      <td>0.068185</td>\n",
       "      <td>0.063403</td>\n",
       "      <td>...</td>\n",
       "      <td>0.029391</td>\n",
       "      <td>0.006182</td>\n",
       "      <td>-0.009334</td>\n",
       "      <td>-0.044810</td>\n",
       "      <td>0.005898</td>\n",
       "      <td>0.000789</td>\n",
       "      <td>0.022553</td>\n",
       "      <td>-0.000060</td>\n",
       "      <td>-0.008363</td>\n",
       "      <td>2017</td>\n",
       "    </tr>\n",
       "    <tr>\n",
       "      <th>3</th>\n",
       "      <td>0.296768</td>\n",
       "      <td>0.051377</td>\n",
       "      <td>0.100897</td>\n",
       "      <td>0.062956</td>\n",
       "      <td>0.225129</td>\n",
       "      <td>-0.120831</td>\n",
       "      <td>-0.047313</td>\n",
       "      <td>-0.002987</td>\n",
       "      <td>0.077732</td>\n",
       "      <td>-0.015782</td>\n",
       "      <td>...</td>\n",
       "      <td>-0.017609</td>\n",
       "      <td>-0.007843</td>\n",
       "      <td>-0.008278</td>\n",
       "      <td>0.002842</td>\n",
       "      <td>-0.005769</td>\n",
       "      <td>0.012562</td>\n",
       "      <td>-0.004454</td>\n",
       "      <td>0.016273</td>\n",
       "      <td>0.018697</td>\n",
       "      <td>2017</td>\n",
       "    </tr>\n",
       "    <tr>\n",
       "      <th>4</th>\n",
       "      <td>0.161978</td>\n",
       "      <td>-0.021273</td>\n",
       "      <td>-0.036325</td>\n",
       "      <td>0.011431</td>\n",
       "      <td>-0.025894</td>\n",
       "      <td>-0.016751</td>\n",
       "      <td>0.001928</td>\n",
       "      <td>0.062497</td>\n",
       "      <td>0.045934</td>\n",
       "      <td>-0.066738</td>\n",
       "      <td>...</td>\n",
       "      <td>0.001915</td>\n",
       "      <td>0.011996</td>\n",
       "      <td>-0.017509</td>\n",
       "      <td>-0.040920</td>\n",
       "      <td>-0.028302</td>\n",
       "      <td>-0.007682</td>\n",
       "      <td>0.019122</td>\n",
       "      <td>0.005741</td>\n",
       "      <td>0.010976</td>\n",
       "      <td>2017</td>\n",
       "    </tr>\n",
       "  </tbody>\n",
       "</table>\n",
       "<p>5 rows × 301 columns</p>\n",
       "</div>"
      ],
      "text/plain": [
       "          0         1         2         3         4         5         6  \\\n",
       "0  0.363875 -0.012413 -0.279566  0.259308 -0.106940 -0.021839 -0.017721   \n",
       "1  0.255102 -0.052546 -0.036630 -0.013458 -0.026490 -0.066599 -0.090976   \n",
       "2  0.363986  0.109561  0.098220  0.132986  0.237107 -0.151706 -0.071024   \n",
       "3  0.296768  0.051377  0.100897  0.062956  0.225129 -0.120831 -0.047313   \n",
       "4  0.161978 -0.021273 -0.036325  0.011431 -0.025894 -0.016751  0.001928   \n",
       "\n",
       "          7         8         9  ...       291       292       293       294  \\\n",
       "0  0.142037 -0.009440 -0.024391  ...  0.023386 -0.008769 -0.015133  0.002838   \n",
       "1 -0.168911  0.012101 -0.139682  ... -0.016115  0.010415  0.025954 -0.033427   \n",
       "2 -0.033271  0.068185  0.063403  ...  0.029391  0.006182 -0.009334 -0.044810   \n",
       "3 -0.002987  0.077732 -0.015782  ... -0.017609 -0.007843 -0.008278  0.002842   \n",
       "4  0.062497  0.045934 -0.066738  ...  0.001915  0.011996 -0.017509 -0.040920   \n",
       "\n",
       "        295       296       297       298       299  year  \n",
       "0 -0.006858 -0.004907  0.018868 -0.010167 -0.021797  2017  \n",
       "1  0.026025  0.017250 -0.020288  0.031084 -0.026674  2017  \n",
       "2  0.005898  0.000789  0.022553 -0.000060 -0.008363  2017  \n",
       "3 -0.005769  0.012562 -0.004454  0.016273  0.018697  2017  \n",
       "4 -0.028302 -0.007682  0.019122  0.005741  0.010976  2017  \n",
       "\n",
       "[5 rows x 301 columns]"
      ]
     },
     "execution_count": 22,
     "metadata": {},
     "output_type": "execute_result"
    }
   ],
   "source": [
    "train_set.head()"
   ]
  },
  {
   "cell_type": "code",
   "execution_count": 23,
   "id": "62ab56ee",
   "metadata": {},
   "outputs": [],
   "source": [
    "train_set[\"IsFake\"]=dataset.IsFake"
   ]
  },
  {
   "cell_type": "code",
   "execution_count": 24,
   "id": "70476502",
   "metadata": {},
   "outputs": [],
   "source": [
    "train_set.to_csv(\"train.csv\",header=True,index=False)"
   ]
  }
 ],
 "metadata": {
  "kernelspec": {
   "display_name": "venv",
   "language": "python",
   "name": "python3"
  },
  "language_info": {
   "codemirror_mode": {
    "name": "ipython",
    "version": 3
   },
   "file_extension": ".py",
   "mimetype": "text/x-python",
   "name": "python",
   "nbconvert_exporter": "python",
   "pygments_lexer": "ipython3",
   "version": "3.11.4"
  }
 },
 "nbformat": 4,
 "nbformat_minor": 5
}
